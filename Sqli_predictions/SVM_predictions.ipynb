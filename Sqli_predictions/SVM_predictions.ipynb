{
 "cells": [
  {
   "cell_type": "code",
   "execution_count": 1,
   "id": "efff5a43-28f5-4b32-bf41-8ebdd6454c39",
   "metadata": {},
   "outputs": [
    {
     "name": "stdout",
     "output_type": "stream",
     "text": [
      "✅ Predictions saved to ./predictions/SVM_predictions.csv\n"
     ]
    }
   ],
   "source": [
    "import pandas as pd\n",
    "import joblib\n",
    "from sklearn.svm import SVC\n",
    "\n",
    "# Load the saved XGBoost model and scaler\n",
    "model_path = './Models/SVM_model.pkl'\n",
    "scaler_path = './Models/SVM_scaler.pkl'\n",
    "\n",
    "xgb_model = joblib.load(model_path)\n",
    "scaler = joblib.load(scaler_path)\n",
    "\n",
    "# Load new data for prediction\n",
    "new_data_path = './Dataset/converted_sqli.csv'\n",
    "new_data = pd.read_csv(new_data_path, encoding='latin1')\n",
    "\n",
    "# Ensure columns match the expected ones\n",
    "numeric_features = [\n",
    "    'query_len', 'num_words_query', 'no_single_qts', 'no_double_qts', 'no_punct',\n",
    "    'no_single_cmnt', 'no_mult_cmnt', 'no_space', 'no_perc', 'no_log_opt',\n",
    "    'no_arith', 'no_null', 'no_hexa', 'no_alpha', 'no_digit', \n",
    "    'len_of_chr_char_null', 'genuine_keywords'\n",
    "]\n",
    "\n",
    "X_new = new_data[numeric_features]\n",
    "\n",
    "# Scale numeric features using the loaded scaler\n",
    "X_new_scaled = scaler.transform(X_new)\n",
    "\n",
    "# Make predictions using the loaded XGBoost model\n",
    "predictions = xgb_model.predict(X_new_scaled)\n",
    "\n",
    "# Save predictions to a CSV file\n",
    "output_csv = './predictions/SVM_predictions.csv'\n",
    "output = pd.DataFrame({'Prediction': predictions})\n",
    "output.to_csv(output_csv, index=False)\n",
    "\n",
    "print(f\"✅ Predictions saved to {output_csv}\")"
   ]
  },
  {
   "cell_type": "code",
   "execution_count": null,
   "id": "9848cb98-2581-4fc4-ad0f-0e3d8e023729",
   "metadata": {},
   "outputs": [],
   "source": []
  },
  {
   "cell_type": "code",
   "execution_count": 1,
   "id": "cd257495-7166-45e8-8f58-d0b88298ada5",
   "metadata": {},
   "outputs": [
    {
     "name": "stdout",
     "output_type": "stream",
     "text": [
      "Test Accuracy: 0.9702\n",
      "Confusion Matrix:\n",
      "\n",
      "True Negative (TN): 2938\n",
      "False Positive (FP): 51\n",
      "False Negative (FN): 62\n",
      "True Positive (TP): 736\n",
      "Classification Report:\n",
      "               precision    recall  f1-score   support\n",
      "\n",
      "           0       0.98      0.98      0.98      2989\n",
      "           1       0.94      0.92      0.93       798\n",
      "\n",
      "    accuracy                           0.97      3787\n",
      "   macro avg       0.96      0.95      0.95      3787\n",
      "weighted avg       0.97      0.97      0.97      3787\n",
      "\n"
     ]
    }
   ],
   "source": [
    "import pandas as pd\n",
    "from sklearn.metrics import classification_report, accuracy_score , confusion_matrix\n",
    "\n",
    "# Load the original dataset\n",
    "original_data = pd.read_csv('./Dataset/converted_sqli.csv')  # Replace with your file path\n",
    "\n",
    "# Load the predictions dataset\n",
    "predictions_data = pd.read_csv('./predictions/SVM_predictions.csv')  # Replace with your file path\n",
    "\n",
    "# Ensure the datasets are aligned (e.g., by index)\n",
    "# If the datasets are not aligned, you may need to merge them on a common column\n",
    "# Example: merged_data = pd.merge(original_data, predictions_data, on='common_column')\n",
    "\n",
    "# Extract actual labels (y_true) and predicted labels (y_pred)\n",
    "y_true = original_data['Label']  # Replace 'Label' with the actual column name\n",
    "y_pred = predictions_data['Prediction']  # Replace 'Prediction' with the actual column name\n",
    "\n",
    "accuracy = accuracy_score(y_true, y_pred)\n",
    "print(f\"Test Accuracy: {accuracy:.4f}\")\n",
    "# Confusion Matrix\n",
    "cm = confusion_matrix(y_true, y_pred)\n",
    "TN, FP, FN, TP = cm.ravel()\n",
    "print(\"Confusion Matrix:\\n\")\n",
    "print(f\"True Negative (TN): {TN}\")\n",
    "print(f\"False Positive (FP): {FP}\")\n",
    "print(f\"False Negative (FN): {FN}\")\n",
    "print(f\"True Positive (TP): {TP}\")\n",
    "# Classification Report\n",
    "print(\"Classification Report:\\n\", classification_report(y_true, y_pred))"
   ]
  },
  {
   "cell_type": "code",
   "execution_count": null,
   "id": "bbc267f1-cafe-4b8d-ac38-e38ffc381cfa",
   "metadata": {},
   "outputs": [],
   "source": []
  },
  {
   "cell_type": "code",
   "execution_count": null,
   "id": "fb46b5fd-ee20-43ab-a87a-1b79ba776814",
   "metadata": {},
   "outputs": [],
   "source": []
  }
 ],
 "metadata": {
  "kernelspec": {
   "display_name": "Python 3 (ipykernel)",
   "language": "python",
   "name": "python3"
  },
  "language_info": {
   "codemirror_mode": {
    "name": "ipython",
    "version": 3
   },
   "file_extension": ".py",
   "mimetype": "text/x-python",
   "name": "python",
   "nbconvert_exporter": "python",
   "pygments_lexer": "ipython3",
   "version": "3.11.11"
  }
 },
 "nbformat": 4,
 "nbformat_minor": 5
}
