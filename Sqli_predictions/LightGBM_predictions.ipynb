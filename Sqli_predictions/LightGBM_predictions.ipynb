{
 "cells": [
  {
   "cell_type": "code",
   "execution_count": 1,
   "id": "c631236d-2313-4761-8e79-fbae94320f90",
   "metadata": {},
   "outputs": [
    {
     "name": "stdout",
     "output_type": "stream",
     "text": [
      "[LightGBM] [Warning] min_data_in_leaf is set=30, min_child_samples=20 will be ignored. Current value: min_data_in_leaf=30\n",
      "[LightGBM] [Warning] lambda_l1 is set=0.5, reg_alpha=0.0 will be ignored. Current value: lambda_l1=0.5\n",
      "[LightGBM] [Warning] lambda_l2 is set=1.0, reg_lambda=0.0 will be ignored. Current value: lambda_l2=1.0\n",
      "Predictions saved to ./predictions/LightGBM_predictions.csv\n"
     ]
    }
   ],
   "source": [
    "import pandas as pd\n",
    "import joblib\n",
    "\n",
    "# Load the saved components\n",
    "model_path = './Models/LightGBM_model.pkl'\n",
    "scaler_path = './Models/LightGBM_scaler.pkl'\n",
    "\n",
    "knn = joblib.load(model_path)\n",
    "scaler = joblib.load(scaler_path)\n",
    "\n",
    "# Load new data\n",
    "new_data_path = './Dataset/converted_sqli.csv'\n",
    "new_data = pd.read_csv(new_data_path, encoding='latin1')\n",
    "\n",
    "# Ensure columns match the expected ones\n",
    "numeric_features = [\n",
    "    'query_len', 'num_words_query','no_single_qts','no_double_qts','no_punct',\n",
    "    'no_single_cmnt','no_mult_cmnt','no_space','no_perc','no_log_opt','no_arith',\n",
    "    'no_null','no_hexa','no_alpha','no_digit','len_of_chr_char_null',\n",
    "    'genuine_keywords'\n",
    "]\n",
    "\n",
    "X_new = new_data[numeric_features]\n",
    "\n",
    "# Scale numeric features\n",
    "X_new_scaled = scaler.transform(X_new)\n",
    "\n",
    "# Make predictions\n",
    "predictions = knn.predict(X_new_scaled)\n",
    "\n",
    "# Save predictions to a CSV file\n",
    "output_csv = './predictions/LightGBM_predictions.csv'\n",
    "output = pd.DataFrame({'Prediction': predictions})\n",
    "output.to_csv(output_csv, index=False)\n",
    "\n",
    "print(f\"Predictions saved to {output_csv}\")"
   ]
  },
  {
   "cell_type": "code",
   "execution_count": null,
   "id": "9a7e9742-7303-4d41-9bc2-a602dbdb219d",
   "metadata": {},
   "outputs": [],
   "source": []
  },
  {
   "cell_type": "code",
   "execution_count": 1,
   "id": "7d11852e-775d-4542-aa9d-de51ebbf5bf3",
   "metadata": {},
   "outputs": [
    {
     "name": "stdout",
     "output_type": "stream",
     "text": [
      "Test Accuracy: 0.9717\n",
      "Confusion Matrix:\n",
      "\n",
      "True Negative (TN): 2917\n",
      "False Positive (FP): 72\n",
      "False Negative (FN): 35\n",
      "True Positive (TP): 763\n",
      "Classification Report:\n",
      "               precision    recall  f1-score   support\n",
      "\n",
      "           0       0.99      0.98      0.98      2989\n",
      "           1       0.91      0.96      0.93       798\n",
      "\n",
      "    accuracy                           0.97      3787\n",
      "   macro avg       0.95      0.97      0.96      3787\n",
      "weighted avg       0.97      0.97      0.97      3787\n",
      "\n"
     ]
    }
   ],
   "source": [
    "import pandas as pd\n",
    "from sklearn.metrics import classification_report, accuracy_score , confusion_matrix\n",
    "\n",
    "# Load the original dataset\n",
    "original_data = pd.read_csv('./Dataset/converted_sqli.csv')  # Replace with your file path\n",
    "\n",
    "# Load the predictions dataset\n",
    "predictions_data = pd.read_csv('./predictions/LightGBM_predictions.csv')  # Replace with your file path\n",
    "\n",
    "# Ensure the datasets are aligned (e.g., by index)\n",
    "# If the datasets are not aligned, you may need to merge them on a common column\n",
    "# Example: merged_data = pd.merge(original_data, predictions_data, on='common_column')\n",
    "\n",
    "# Extract actual labels (y_true) and predicted labels (y_pred)\n",
    "y_true = original_data['Label']  # Replace 'Label' with the actual column name\n",
    "y_pred = predictions_data['Prediction']  # Replace 'Prediction' with the actual column name\n",
    "\n",
    "accuracy = accuracy_score(y_true, y_pred)\n",
    "print(f\"Test Accuracy: {accuracy:.4f}\")\n",
    "# Confusion Matrix\n",
    "cm = confusion_matrix(y_true, y_pred)\n",
    "TN, FP, FN, TP = cm.ravel()\n",
    "print(\"Confusion Matrix:\\n\")\n",
    "print(f\"True Negative (TN): {TN}\")\n",
    "print(f\"False Positive (FP): {FP}\")\n",
    "print(f\"False Negative (FN): {FN}\")\n",
    "print(f\"True Positive (TP): {TP}\")\n",
    "# Classification Report\n",
    "print(\"Classification Report:\\n\", classification_report(y_true, y_pred))"
   ]
  },
  {
   "cell_type": "code",
   "execution_count": null,
   "id": "31c6af5c-d4d8-4157-905a-be273e281a1a",
   "metadata": {},
   "outputs": [],
   "source": []
  },
  {
   "cell_type": "code",
   "execution_count": null,
   "id": "3d6aaf04-e70d-4a15-91c7-0e7324ba7b5c",
   "metadata": {},
   "outputs": [],
   "source": []
  }
 ],
 "metadata": {
  "kernelspec": {
   "display_name": "Python 3 (ipykernel)",
   "language": "python",
   "name": "python3"
  },
  "language_info": {
   "codemirror_mode": {
    "name": "ipython",
    "version": 3
   },
   "file_extension": ".py",
   "mimetype": "text/x-python",
   "name": "python",
   "nbconvert_exporter": "python",
   "pygments_lexer": "ipython3",
   "version": "3.11.11"
  }
 },
 "nbformat": 4,
 "nbformat_minor": 5
}
