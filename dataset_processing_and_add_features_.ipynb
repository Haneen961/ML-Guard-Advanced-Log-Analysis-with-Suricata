{
  "nbformat": 4,
  "nbformat_minor": 0,
  "metadata": {
    "colab": {
      "provenance": []
    },
    "kernelspec": {
      "name": "python3",
      "display_name": "Python 3"
    },
    "language_info": {
      "name": "python"
    }
  },
  "cells": [
    {
      "cell_type": "code",
      "execution_count": null,
      "metadata": {
        "id": "62uZWvin9od8"
      },
      "outputs": [],
      "source": []
    },
    {
      "cell_type": "code",
      "source": [
        "import pandas as pd\n",
        "import numpy as np\n",
        "import re\n",
        "\n",
        "# Load the Dataset\n",
        "data = pd.read_csv('/content/XSS_dataset.csv')\n",
        "\n",
        "# Display the number of rows before processing\n",
        "print(f\"Number of rows before processing: {data.shape[0]}\")\n",
        "\n",
        "# Count labels before processing\n",
        "label_counts_before = data['Label'].value_counts()\n",
        "print(f\"Malicious (1) before processing: {label_counts_before.get(1, 0)}\")\n",
        "print(f\"Benign (0) before processing: {label_counts_before.get(0, 0)}\")\n",
        "\n",
        "# Data Preprocessing\n",
        "# Check for duplicate rows based on Sentence and Label\n",
        "duplicates = data.duplicated(subset=['Sentence', 'Label']).sum()\n",
        "print(f\"Number of duplicate rows: {duplicates}\")\n",
        "\n",
        "# Remove duplicate rows based on Sentence and Label\n",
        "data.drop_duplicates(subset=['Sentence', 'Label'], inplace=True)\n",
        "\n",
        "# Check if any same query has different labels\n",
        "conflicting_labels = data.duplicated(subset=['Sentence'], keep=False).sum()\n",
        "print(f\"Number of queries with conflicting labels: {conflicting_labels}\")\n",
        "\n",
        "# Remove conflicting rows where the same query has different labels\n",
        "data.drop_duplicates(subset=['Sentence'], keep=False, inplace=True)\n",
        "\n",
        "# Check for null values\n",
        "null_values = data.isnull().sum().sum()\n",
        "print(f\"Number of null values: {null_values}\")\n",
        "\n",
        "# Remove null values\n",
        "data.dropna(inplace=True)\n",
        "\n",
        "# Display the number of rows after processing\n",
        "print(f\"Number of rows after processing: {data.shape[0]}\")\n",
        "\n",
        "# Count labels after processing\n",
        "label_counts_after = data['Label'].value_counts()\n",
        "print(f\"Malicious (1) after processing: {label_counts_after.get(1, 0)}\")\n",
        "print(f\"Benign (0) after processing: {label_counts_after.get(0, 0)}\")\n",
        "\n",
        "# Feature Engineering\n",
        "\n",
        "# Length of a payload\n",
        "data['Length'] = data['Sentence'].apply(lambda x: len(x))\n",
        "\n",
        "# Number of HTML tags in a payload\n",
        "def count_tags(x):\n",
        "    return len(re.findall(r\"<.*?>\", x))\n",
        "data['Tag_Count'] = data['Sentence'].apply(count_tags)\n",
        "\n",
        "# Number of special characters in a payload\n",
        "def count_special_chars(x):\n",
        "    return len(re.findall(r'[<>\"/]', x))\n",
        "data['Special_Char_Count'] = data['Sentence'].apply(count_special_chars)\n",
        "\n",
        "# Number of JavaScript keywords in a payload\n",
        "def count_js_keywords(x):\n",
        "    js_keywords = ['script', 'alert', 'onload', 'onmouseover']\n",
        "    return sum(keyword in x.lower() for keyword in js_keywords)\n",
        "data['JS_Keyword_Count'] = data['Sentence'].apply(count_js_keywords)\n",
        "\n",
        "# Save the new dataset\n",
        "data.to_csv(\"/content/XSS_enhanced_dataset.csv\", index=False)\n",
        "\n",
        "# Display the first few rows\n",
        "print(data.head())\n"
      ],
      "metadata": {
        "colab": {
          "base_uri": "https://localhost:8080/"
        },
        "id": "5tMdULKfJWAt",
        "outputId": "6b9494c8-f217-40fd-f6b9-0936a320e5c4"
      },
      "execution_count": null,
      "outputs": [
        {
          "output_type": "stream",
          "name": "stdout",
          "text": [
            "Number of rows before processing: 13686\n",
            "Malicious (1) before processing: 7373\n",
            "Benign (0) before processing: 6313\n",
            "Number of duplicate rows: 2769\n",
            "Number of queries with conflicting labels: 0\n",
            "Number of null values: 0\n",
            "Number of rows after processing: 10917\n",
            "Malicious (1) after processing: 7323\n",
            "Benign (0) after processing: 3594\n",
            "   Unnamed: 0                                           Sentence  Label  \\\n",
            "0           0  <li><a href=\"/wiki/File:Socrates.png\" class=\"i...      0   \n",
            "1           1               <tt onmouseover=\"alert(1)\">test</tt>      1   \n",
            "2           2  \\t </span> <span class=\"reference-text\">Steeri...      0   \n",
            "3           3  \\t </span> <span class=\"reference-text\"><cite ...      0   \n",
            "4           4  \\t </span>. <a href=\"/wiki/Digital_object_iden...      0   \n",
            "\n",
            "   Length  Tag_Count  Special_Char_Count  JS_Keyword_Count  \n",
            "0     557          8                  78                 0  \n",
            "1      36          2                   7                 2  \n",
            "2     233          4                  24                 0  \n",
            "3     395          9                  41                 0  \n",
            "4     422          8                  54                 0  \n"
          ]
        }
      ]
    }
  ]
}