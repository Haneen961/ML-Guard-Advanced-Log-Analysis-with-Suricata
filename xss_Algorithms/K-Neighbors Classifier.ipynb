{
 "cells": [
  {
   "cell_type": "code",
   "execution_count": null,
   "metadata": {
    "tags": []
   },
   "outputs": [
    {
     "name": "stdout",
     "output_type": "stream",
     "text": [
      "Accuracy: 0.9957723577235772\n",
      "Confusion Matrix:\n",
      "\n",
      "True Negative (TN): 3864\n",
      "False Positive (FP): 8\n",
      "False Negative (FN): 18\n",
      "True Positive (TP): 2260\n",
      "\n",
      "Classification Report:\n",
      "               precision    recall  f1-score   support\n",
      "\n",
      "           0       1.00      1.00      1.00      3872\n",
      "           1       1.00      0.99      0.99      2278\n",
      "\n",
      "    accuracy                           1.00      6150\n",
      "   macro avg       1.00      1.00      1.00      6150\n",
      "weighted avg       1.00      1.00      1.00      6150\n",
      "\n"
     ]
    }
   ],
   "source": [
    "# Import necessary libraries\n",
    "import pandas as pd\n",
    "from sklearn.model_selection import train_test_split\n",
    "from sklearn.preprocessing import StandardScaler\n",
    "from sklearn.neighbors import KNeighborsClassifier\n",
    "from sklearn.metrics import accuracy_score, classification_report, confusion_matrix\n",
    "import joblib\n",
    "\n",
    "# Load the dataset from CSV\n",
    "file_path = '/home/saja/algorithms/XSS_enhanced_dataset.csv'  # Replace with your .csv file path\n",
    "df = pd.read_csv(file_path, encoding='latin1')\n",
    "\n",
    "# Specify the feature columns and the target column\n",
    "# Replace 'Feature1', 'Feature2', ..., 'Label' with your actual column names\n",
    "features = ['Length','Tag_Count','Special_Char_Count','JS_Keyword_Count']  # Update these to match your feature columns\n",
    "target = 'Label'  # Update this to match your target column\n",
    "\n",
    "X = df[features]  # Features\n",
    "y = df[target]    # Target\n",
    "\n",
    "# Split the dataset into training and testing sets\n",
    "X_train, X_test, y_train, y_test = train_test_split(X, y, test_size=0.2, random_state=42)\n",
    "\n",
    "# Standardize the feature data\n",
    "scaler = StandardScaler()\n",
    "X_train = scaler.fit_transform(X_train)\n",
    "X_test = scaler.transform(X_test)\n",
    "\n",
    "# Create and train the KNN model\n",
    "knn = KNeighborsClassifier(n_neighbors=3)  # Adjust n_neighbors as needed\n",
    "knn.fit(X_train, y_train)\n",
    "\n",
    "# Make predictions\n",
    "y_pred = knn.predict(X_test)\n",
    "\n",
    "# Evaluate the model\n",
    "print(\"Accuracy:\", accuracy_score(y_test, y_pred))\n",
    "# Confusion Matrix\n",
    "cm = confusion_matrix(y_test, y_pred)\n",
    "TN, FP, FN, TP = cm.ravel()\n",
    "print(\"Confusion Matrix:\\n\")\n",
    "print(f\"True Negative (TN): {TN}\")\n",
    "print(f\"False Positive (FP): {FP}\")\n",
    "print(f\"False Negative (FN): {FN}\")\n",
    "print(f\"True Positive (TP): {TP}\")\n",
    "print(\"\\nClassification Report:\\n\", classification_report(y_test, y_pred))\n",
    "\n",
    "\n",
    "joblib.dump(knn, '/home/saja/algorithms/Models/K_Neighbors_model.pkl')\n",
    "#joblib.dump(vectorizer, '../Models/random_forest_vectorizer.pkl')\n",
    "joblib.dump(scaler, '/home/saja/algorithms/Models/K_Neighbors_scaler.pkl')"
   ]
  },
  {
   "cell_type": "code",
   "execution_count": null,
   "metadata": {},
   "outputs": [],
   "source": []
  },
  {
   "cell_type": "code",
   "execution_count": 12,
   "metadata": {},
   "outputs": [
    {
     "data": {
      "text/plain": [
       "['../Models/K_Neighbors_scaler.pkl']"
      ]
     },
     "execution_count": 12,
     "metadata": {},
     "output_type": "execute_result"
    }
   ],
   "source": [
    "import joblib\n",
    "\n",
    "joblib.dump(knn, '../Models/K_Neighbors_model.pkl')\n",
    "#joblib.dump(vectorizer, '../Models/random_forest_vectorizer.pkl')\n",
    "joblib.dump(scaler, '../Models/K_Neighbors_scaler.pkl')\n"
   ]
  },
  {
   "cell_type": "code",
   "execution_count": null,
   "metadata": {},
   "outputs": [],
   "source": []
  }
 ],
 "metadata": {
  "kernelspec": {
   "display_name": "Python 3 (ipykernel)",
   "language": "python",
   "name": "python3"
  },
  "language_info": {
   "codemirror_mode": {
    "name": "ipython",
    "version": 3
   },
   "file_extension": ".py",
   "mimetype": "text/x-python",
   "name": "python",
   "nbconvert_exporter": "python",
   "pygments_lexer": "ipython3",
   "version": "3.11.11"
  }
 },
 "nbformat": 4,
 "nbformat_minor": 4
}
