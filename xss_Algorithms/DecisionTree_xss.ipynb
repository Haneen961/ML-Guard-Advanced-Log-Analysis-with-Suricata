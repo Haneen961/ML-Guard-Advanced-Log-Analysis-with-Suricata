{
 "cells": [
  {
   "cell_type": "code",
   "execution_count": 3,
   "metadata": {},
   "outputs": [
    {
     "name": "stdout",
     "output_type": "stream",
     "text": [
      "                                               Query  Label  query_len  \\\n",
      "0                  \" or pg_sleep  (  __time__  )  --      1         33   \n",
      "1  create user name identified by pass123 tempora...      1         90   \n",
      "2   and 1  =  utl_inaddr.get_host_address   (    ...      1        218   \n",
      "3   select * from users where id  =  '1' or @ @1 ...      1         90   \n",
      "4   select * from users where id  =  1 or 1#\"  ( ...      1         85   \n",
      "\n",
      "   num_words_query  no_single_qts  no_double_qts  no_punct  no_single_cmnt  \\\n",
      "0                7              0              1        10               1   \n",
      "1               12              0              0         1               0   \n",
      "2               35              3              0        25               0   \n",
      "3               20              3              0        13               1   \n",
      "4               18              0              1        10               1   \n",
      "\n",
      "   no_mult_cmnt  no_space  no_perc  no_log_opt  no_arith  no_null  no_hexa  \\\n",
      "0             0         6        0           1         2        0        0   \n",
      "1             0        11        0           0         0        0        0   \n",
      "2             0        35        0           2         0        0        0   \n",
      "3             0        20        0           1         3        0        0   \n",
      "4             0        18        0           1         3        0        0   \n",
      "\n",
      "   no_alpha  no_digit  len_of_chr_char_null  genuine_keywords  \n",
      "0        13         0                     0                 0  \n",
      "1        75         3                     0                 0  \n",
      "2       120         2                     0                 2  \n",
      "3        42         5                     0                 2  \n",
      "4        42         4                     0                 2  \n",
      "Test Accuracy: 0.9982\n",
      "Classification Report:\n",
      "               precision    recall  f1-score   support\n",
      "\n",
      "           0       1.00      1.00      1.00      3872\n",
      "           1       1.00      1.00      1.00      2278\n",
      "\n",
      "    accuracy                           1.00      6150\n",
      "   macro avg       1.00      1.00      1.00      6150\n",
      "weighted avg       1.00      1.00      1.00      6150\n",
      "\n",
      "Confusion Matrix:\n",
      "\n",
      "True Negative (TN): 3870\n",
      "False Positive (FP): 2\n",
      "False Negative (FN): 9\n",
      "True Positive (TP): 2269\n"
     ]
    }
   ],
   "source": [
    "import pandas as pd\n",
    "import numpy as np\n",
    "import joblib\n",
    "from sklearn.feature_extraction.text import TfidfVectorizer\n",
    "from sklearn.preprocessing import StandardScaler\n",
    "from sklearn.model_selection import train_test_split\n",
    "from sklearn.tree import DecisionTreeClassifier\n",
    "from sklearn.metrics import classification_report, accuracy_score , confusion_matrix\n",
    "\n",
    "# File paths for saving components\n",
    "model_path = '/home/haneen/GP-latest/Models/DecisionTree_xss_model.pkl'\n",
    "vectorizer_path = '/home/haneen/GP-latest/Models/DecisionTree_xss_vectorizer.pkl'\n",
    "scaler_path = '/home/haneen/GP-latest/Models/DecisionTree_xss_scaler.pkl'\n",
    "\n",
    "# Step 1: Load the Dataset\n",
    "data = pd.read_csv('/home/haneen/GP-latest/Dataset/XSS_enhanced_dataset.csv', encoding='latin1')\n",
    "print(data.head())\n",
    "\n",
    "# Step 2: Preprocess the Data\n",
    "X_text = data['Sentence'].astype(str)  # Ensure text is string format\n",
    "y = data['Label']  # Target labels\n",
    "\n",
    "# Step 3: Process text data with TfidfVectorizer\n",
    "vectorizer = TfidfVectorizer(max_features=10000)\n",
    "X_text_tfidf = vectorizer.fit_transform(X_text)\n",
    "\n",
    "# Step 4: Process numerical features\n",
    "numeric_features = data.drop(columns=['Sentence', 'Label'])  # Remove text & target columns\n",
    "scaler = StandardScaler()\n",
    "X_numeric_scaled = scaler.fit_transform(numeric_features)\n",
    "\n",
    "# Step 5: Combine text and numeric features\n",
    "X_combined = np.hstack((X_text_tfidf.toarray(), X_numeric_scaled))\n",
    "\n",
    "# Step 6: Split into training and testing sets\n",
    "X_train, X_test, y_train, y_test = train_test_split(X_combined, y, test_size=0.2, random_state=42)\n",
    "\n",
    "# Step 7: Train a Decision Tree Classifier\n",
    "clf = DecisionTreeClassifier(random_state=42)\n",
    "clf.fit(X_train, y_train)\n",
    "\n",
    "# Step 8: Make Predictions\n",
    "y_pred = clf.predict(X_test)\n",
    "\n",
    "# Step 9: Evaluate the Model\n",
    "accuracy = accuracy_score(y_test, y_pred)\n",
    "print(f\"Test Accuracy: {accuracy:.4f}\")\n",
    "print(\"Classification Report:\\n\", classification_report(y_test, y_pred))\n",
    "# Confusion Matrix\n",
    "cm = confusion_matrix(y_test, y_pred)\n",
    "TN, FP, FN, TP = cm.ravel()\n",
    "print(\"Confusion Matrix:\\n\")\n",
    "print(f\"True Negative (TN): {TN}\")\n",
    "print(f\"False Positive (FP): {FP}\")\n",
    "print(f\"False Negative (FN): {FN}\")\n",
    "print(f\"True Positive (TP): {TP}\")\n",
    "\n",
    "# Step 10: Save the Model, Vectorizer, and Scaler\n",
    "joblib.dump(clf, model_path)\n",
    "joblib.dump(vectorizer, vectorizer_path)\n",
    "joblib.dump(scaler, scaler_path)\n"
   ]
  },
  {
   "cell_type": "code",
   "execution_count": null,
   "metadata": {},
   "outputs": [],
   "source": []
  },
  {
   "cell_type": "code",
   "execution_count": null,
   "metadata": {},
   "outputs": [],
   "source": []
  },
  {
   "cell_type": "code",
   "execution_count": null,
   "metadata": {},
   "outputs": [],
   "source": []
  },
  {
   "cell_type": "code",
   "execution_count": 4,
   "metadata": {},
   "outputs": [
    {
     "data": {
      "text/plain": [
       "['../Models/DecisionTree_scaler.pkl']"
      ]
     },
     "execution_count": 4,
     "metadata": {},
     "output_type": "execute_result"
    }
   ],
   "source": []
  },
  {
   "cell_type": "code",
   "execution_count": null,
   "metadata": {},
   "outputs": [],
   "source": []
  },
  {
   "cell_type": "code",
   "execution_count": null,
   "metadata": {},
   "outputs": [],
   "source": []
  }
 ],
 "metadata": {
  "kernelspec": {
   "display_name": "Python 3 (ipykernel)",
   "language": "python",
   "name": "python3"
  },
  "language_info": {
   "codemirror_mode": {
    "name": "ipython",
    "version": 3
   },
   "file_extension": ".py",
   "mimetype": "text/x-python",
   "name": "python",
   "nbconvert_exporter": "python",
   "pygments_lexer": "ipython3",
   "version": "3.11.11"
  }
 },
 "nbformat": 4,
 "nbformat_minor": 4
}
